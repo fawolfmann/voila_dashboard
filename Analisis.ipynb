{
 "cells": [
  {
   "cell_type": "code",
   "execution_count": 62,
   "metadata": {},
   "outputs": [],
   "source": [
    "import os\n",
    "import pandas as pd\n",
    "import datetime\n",
    "import numpy as np\n",
    "from ipywidgets import interact, interactive, fixed, interact_manual\n",
    "import ipywidgets as widgets\n",
    "from IPython.display import display, HTML\n",
    "import datetime\n",
    "import matplotlib.pyplot  as plt\n",
    "plt.style.use('ggplot')\n",
    "# from utils import staff_code , SelectFilesButton"
   ]
  },
  {
   "cell_type": "code",
   "execution_count": 63,
   "metadata": {},
   "outputs": [],
   "source": [
    "def load_resumen(path):\n",
    "    if os.path.isfile(path) :\n",
    "        resumen_df = pd.read_excel(path, sheet_name ='Resumen')\n",
    "        resumen_df.columns = ['Fecha procesamiento','Dia','Cliente','Proyecto','Cantidad de horas','Valor hora','Total','Pagos / Anticipos','Saldo','Horas por mes']\n",
    "        resumen_df = resumen_df[4:]\n",
    "        resumen_df.drop(['Fecha procesamiento','Valor hora','Horas por mes', 'Total', 'Pagos / Anticipos', 'Saldo'], axis = 1, inplace= True)\n",
    "        return resumen_df\n",
    "    else:\n",
    "        with output:\n",
    "            print('Resumen no encontrado')\n",
    "            print('Cargue el resumen primero')"
   ]
  },
  {
   "cell_type": "code",
   "execution_count": 64,
   "metadata": {},
   "outputs": [],
   "source": [
    "def load_resumens():\n",
    "    path = os.path.join('O:','Libovich','F','Estudio','Resumen')\n",
    "    df = pd.DataFrame(columns = ['Dia', 'Cliente', 'Proyecto', 'Cantidad de horas', 'Arquitecto'])\n",
    "    df.index.name = 'indice'\n",
    "    for root, dirs, files in os.walk(path):\n",
    "        for file in files:\n",
    "            file_path = os.path.join(root,file)\n",
    "            temp_df = load_resumen(file_path)\n",
    "            temp_df['Arquitecto'] = str(file_path).split('-')[-1][:-5]\n",
    "            if temp_df.shape[0] != 0: \n",
    "                df = pd.concat([df, temp_df])\n",
    "\n",
    "    df['Dia'] =  pd.to_datetime(df['Dia'], format='%m/%d/%Y')\n",
    "    df['Cantidad de horas'] = df['Cantidad de horas'].astype(float)\n",
    "    df.reset_index(inplace = True)\n",
    "    del df['index']\n",
    "    return df"
   ]
  },
  {
   "cell_type": "code",
   "execution_count": 65,
   "metadata": {},
   "outputs": [],
   "source": [
    "def plot_df_withax(df, color):\n",
    "    fig, ax = plt.subplots(figsize=(9,6))\n",
    "    df.plot(kind='barh',ax=ax, color=color)\n",
    "    for p in ax.patches:\n",
    "        ax.annotate(str(round(p.get_width(),2)), (p.get_width() * 1.005, p.get_y() * 1.05))\n",
    "    ax.legend()\n",
    "    #fig."
   ]
  },
  {
   "cell_type": "markdown",
   "metadata": {},
   "source": [
    "# Totales"
   ]
  },
  {
   "cell_type": "code",
   "execution_count": 71,
   "metadata": {},
   "outputs": [],
   "source": [
    "class DataFPrint:\n",
    "    def __init__(self):\n",
    "        df_total = 0\n",
    "        \n",
    "        \n",
    "    def set_total(self, df):\n",
    "        self.df_total = df.copy()\n",
    "        \n",
    "    def set_proj(self, df , project):\n",
    "        self.df_proj = df.copy()\n",
    "        self.project = project\n",
    "        \n",
    "    def set_arq(self, df , arq):\n",
    "        self.df_arq = df.copy()\n",
    "        self.arq = arq\n",
    "        \n",
    "    def print_total(self):\n",
    "        folder_path = os.path.join('O:','Libovich','F','Estudio','Resumen')\n",
    "        self.df_total.to_excel(os.path.join(folder_path,'Analisis total.xlsx'))\n",
    "        \n",
    "    def print_proj(self):\n",
    "        folder_path = os.path.join('O:','Libovich','F','Estudio','Resumen')        \n",
    "        self.df_proj.to_excel(os.path.join(folder_path,'Analisis Proyecto {0!s}.xlsx'.format(self.project)))\n",
    "        \n",
    "    def print_arq(self):\n",
    "        folder_path = os.path.join('O:','Libovich','F','Estudio','Resumen')\n",
    "        self.df_arq.to_excel(os.path.join(folder_path,'Analisis arquitecto {0!s}.xlsx'.format(self.arq)))\n",
    "        \n",
    "def dowload_total(b):\n",
    "    print_df.print_total()\n",
    "    with output_total:\n",
    "        display(HTML('Descargo el total en Analisis total.xlsx'))\n",
    "    \n",
    "def dowload_project(b):\n",
    "    print_df.print_proj()\n",
    "    with output_project : \n",
    "        display(HTML('Descargo en Analisis Proyecto {0!s}.xlsx'.format(print_df.project)))\n",
    "\n",
    "def dowload_arq(b):\n",
    "    print_df.print_arq()\n",
    "    with output_arq : \n",
    "        display(HTML('Descargo en Analisis arquitecto {0!s}.xlsx'.format(print_df.arq)))"
   ]
  },
  {
   "cell_type": "code",
   "execution_count": 72,
   "metadata": {},
   "outputs": [],
   "source": [
    "print_df = DataFPrint()\n",
    "output_total = widgets.Output()\n",
    "output_arq = widgets.Output()\n",
    "output_project = widgets.Output()"
   ]
  },
  {
   "cell_type": "code",
   "execution_count": 73,
   "metadata": {},
   "outputs": [
    {
     "data": {
      "application/vnd.jupyter.widget-view+json": {
       "model_id": "68ed7776758b4568ab58517b625951be",
       "version_major": 2,
       "version_minor": 0
      },
      "text/plain": [
       "interactive(children=(DatePicker(value=Timestamp('2020-01-10 00:00:00'), description='Inicio'), DatePicker(val…"
      ]
     },
     "metadata": {},
     "output_type": "display_data"
    }
   ],
   "source": [
    "def plot_filtered(begin_date,end_date, columna):\n",
    "    df = load_resumens()\n",
    "    df_filtered = df[(df['Dia']>pd.Timestamp(begin_date)) & (df['Dia']<pd.Timestamp(end_date))]\n",
    "    plot_df_withax(df_filtered.groupby([columna]).sum()['Cantidad de horas'], 'blue')\n",
    "    \n",
    "    print_df.set_total(df_filtered.groupby([columna]).sum()['Cantidad de horas'])\n",
    "    button = widgets.Button(description='Descargar')\n",
    "    button.on_click(dowload_total)\n",
    "    display(button)\n",
    "        \n",
    "    display(output_total)\n",
    "    \n",
    "_ = interact(plot_filtered,begin_date = widgets.DatePicker(value=pd.to_datetime(datetime.datetime.today().replace(month=datetime.datetime.today().month-1).strftime('%Y/%m/%d/')), description = 'Inicio'), \n",
    "             end_date= widgets.DatePicker(value=pd.to_datetime(datetime.datetime.today().strftime('%Y/%m/%d/')), description = 'Fin'),\n",
    "            columna = ['Cliente','Proyecto','Arquitecto'])"
   ]
  },
  {
   "cell_type": "markdown",
   "metadata": {},
   "source": [
    "## Proyectos por arquitecto"
   ]
  },
  {
   "cell_type": "code",
   "execution_count": 69,
   "metadata": {},
   "outputs": [
    {
     "data": {
      "application/vnd.jupyter.widget-view+json": {
       "model_id": "e77c544e0424423aaf0295df723350d0",
       "version_major": 2,
       "version_minor": 0
      },
      "text/plain": [
       "interactive(children=(DatePicker(value=Timestamp('2020-01-10 00:00:00'), description='Inicio'), DatePicker(val…"
      ]
     },
     "metadata": {},
     "output_type": "display_data"
    }
   ],
   "source": [
    "def plot_projects(begin_date,end_date, Arquitecto):\n",
    "    df = load_resumens()\n",
    "    df_filtered = df[(df['Dia']>pd.Timestamp(begin_date)) & (df['Dia']<pd.Timestamp(end_date))]\n",
    "    df_filtered = df_filtered[(df_filtered['Arquitecto'] == Arquitecto)]\n",
    "    \n",
    "    print_df.set_arq(df_filtered.groupby(['Cliente','Proyecto']).sum()['Cantidad de horas'] , Arquitecto)\n",
    "    button = widgets.Button(description='Descargar')\n",
    "    button.on_click(dowload_arq)\n",
    "    display(button)\n",
    "    \n",
    "    display(output_arq)\n",
    "    \n",
    "    total_horas = round(df_filtered['Cantidad de horas'].sum(),2)\n",
    "    init_date = begin_date.strftime('%Y/%m/%d')\n",
    "    last_date = end_date.strftime('%Y/%m/%d')\n",
    "    print_string = str(f'<h3>Total de horas trabajadas por {Arquitecto} entre {init_date} y {last_date} son : {total_horas} hs.</h3>')\n",
    "    display(HTML(print_string))\n",
    "    plot_df_withax(df_filtered.groupby(['Cliente','Proyecto']).sum()['Cantidad de horas'], 'red')\n",
    "\n",
    "_ = interact(plot_projects,begin_date = widgets.DatePicker(value=pd.to_datetime(datetime.datetime.today().replace(month=datetime.datetime.today().month-1).strftime('%Y/%m/%d/')), description = 'Inicio'), \n",
    "             end_date= widgets.DatePicker(value=pd.to_datetime(datetime.datetime.today().strftime('%Y/%m/%d/')), description = 'Fin'),\n",
    "            Arquitecto = [i for i in load_resumens()['Arquitecto'].unique()])"
   ]
  },
  {
   "cell_type": "markdown",
   "metadata": {},
   "source": [
    "## Arquitectos en cada proyecto"
   ]
  },
  {
   "cell_type": "code",
   "execution_count": 70,
   "metadata": {},
   "outputs": [
    {
     "data": {
      "application/vnd.jupyter.widget-view+json": {
       "model_id": "c9918a0792284eef8747d41072f75173",
       "version_major": 2,
       "version_minor": 0
      },
      "text/plain": [
       "interactive(children=(DatePicker(value=Timestamp('2020-01-01 00:00:00'), description='Inicio'), DatePicker(val…"
      ]
     },
     "metadata": {},
     "output_type": "display_data"
    }
   ],
   "source": [
    "def plot_arquis(begin_date,end_date, Proyecto):\n",
    "    df = load_resumens()\n",
    "    df_filtered = df[(df['Dia']>pd.Timestamp(begin_date)) & (df['Dia']<pd.Timestamp(end_date))]\n",
    "    df_filtered = df_filtered[(df_filtered['Proyecto'] == Proyecto)]\n",
    "    \n",
    "    print_df.set_proj(df_filtered.groupby(['Arquitecto']).sum()['Cantidad de horas'] , Proyecto)\n",
    "    button = widgets.Button(description='Descargar')\n",
    "    button.on_click(dowload_project)\n",
    "    display(button)\n",
    "    \n",
    "    display(output_project)\n",
    "    \n",
    "    total_horas = round(df_filtered['Cantidad de horas'].sum(),2)\n",
    "    init_date = begin_date.strftime('%d/%m/%Y')\n",
    "    last_date = end_date.strftime('%d/%m/%Y')\n",
    "    print_string = str(f'<h3>Total de horas trabajadas en {Proyecto} entre {init_date} y {last_date} son : {total_horas} hs.</h3>')\n",
    "    display(HTML(print_string))\n",
    "    plot_df_withax(df_filtered.groupby(['Arquitecto']).sum()['Cantidad de horas'], 'green')\n",
    "\n",
    "_ = interact(plot_arquis,begin_date = widgets.DatePicker(value=pd.to_datetime(datetime.datetime.today().replace(month=1, day = 1).strftime('%Y/%m/%d/')), description = 'Inicio'), \n",
    "             end_date = widgets.DatePicker(value=pd.to_datetime(datetime.datetime.today().strftime('%Y/%m/%d/')), description = 'Fin'),\n",
    "            Proyecto = [i for i in load_resumens()['Proyecto'].unique()])"
   ]
  },
  {
   "cell_type": "code",
   "execution_count": null,
   "metadata": {},
   "outputs": [],
   "source": []
  },
  {
   "cell_type": "code",
   "execution_count": null,
   "metadata": {},
   "outputs": [],
   "source": []
  }
 ],
 "metadata": {
  "kernelspec": {
   "display_name": "Python 3",
   "language": "python",
   "name": "python3"
  },
  "language_info": {
   "codemirror_mode": {
    "name": "ipython",
    "version": 3
   },
   "file_extension": ".py",
   "mimetype": "text/x-python",
   "name": "python",
   "nbconvert_exporter": "python",
   "pygments_lexer": "ipython3",
   "version": "3.7.6"
  }
 },
 "nbformat": 4,
 "nbformat_minor": 2
}
